{
 "cells": [
  {
   "cell_type": "code",
   "execution_count": 102,
   "metadata": {},
   "outputs": [],
   "source": [
    "import sys\n",
    "\n",
    "base_path = '/Users/yuri/git/diasYuri/tcc/radiation-forecast-mg'\n",
    "sys.path.insert(0, base_path)"
   ]
  },
  {
   "cell_type": "code",
   "execution_count": 113,
   "metadata": {
    "ExecuteTime": {
     "end_time": "2023-09-23T15:01:50.017220600Z",
     "start_time": "2023-09-23T15:01:41.160627600Z"
    }
   },
   "outputs": [],
   "source": [
    "from math import sqrt\n",
    "\n",
    "import keras\n",
    "import numpy as np\n",
    "import pandas as pd\n",
    "from keras import layers\n",
    "from keras.callbacks import EarlyStopping, ModelCheckpoint\n",
    "from keras_tuner.tuners import RandomSearch\n",
    "from matplotlib import pyplot\n",
    "from sklearn.metrics import mean_absolute_error\n",
    "from sklearn.metrics import mean_absolute_percentage_error\n",
    "from sklearn.metrics import mean_squared_error\n",
    "from sklearn.metrics import r2_score\n",
    "from sklearn.preprocessing import MinMaxScaler\n",
    "\n",
    "from src.scaler import Scaler\n",
    "from src.dataframe import read_data_from_csv, read_data, show_error_metrics, windowing, split_data\n",
    "from src.filler import interpolate_filler, fill_df"
   ]
  },
  {
   "cell_type": "code",
   "execution_count": 104,
   "metadata": {},
   "outputs": [],
   "source": [
    "step_back=5"
   ]
  },
  {
   "cell_type": "code",
   "execution_count": 105,
   "metadata": {
    "ExecuteTime": {
     "end_time": "2023-09-19T00:13:25.576242800Z",
     "start_time": "2023-09-19T00:13:25.570726100Z"
    },
    "collapsed": false
   },
   "outputs": [],
   "source": [
    "def build_model(hp):\n",
    "    model = keras.Sequential()\n",
    "    model.add(layers.LSTM(units=hp.Int('units',\n",
    "                                       min_value=32,\n",
    "                                       max_value=512,\n",
    "                                       step=32),\n",
    "                          return_sequences=True,\n",
    "                          activation=hp.Choice('activation', ['relu', 'sigmoid']),\n",
    "                          input_shape=(step_back, 3)))\n",
    "    model.add(layers.Dropout(rate=hp.Float(\n",
    "        'dropout',\n",
    "        min_value=0.0,\n",
    "        max_value=0.5,\n",
    "        default=0.25,\n",
    "        step=0.05,\n",
    "    )))\n",
    "    model.add(layers.LSTM(units=hp.Int('units_2',\n",
    "                                       min_value=32,\n",
    "                                       max_value=512,\n",
    "                                       step=32),\n",
    "                          activation=hp.Choice('activation', ['relu', 'sigmoid', 'tanh'])))\n",
    "    model.add(layers.Dense(1, activation=hp.Choice('activation', ['relu', 'sigmoid', 'tanh'])))\n",
    "    model.compile(loss='mean_squared_error', optimizer=keras.optimizers.legacy.Adam(\n",
    "        hp.Choice('learning_rate', [1e-2, 1e-3, 1e-4])))\n",
    "    return model\n",
    "\n",
    "def model_search(\n",
    "        name,\n",
    "        train_x,\n",
    "        train_y,\n",
    "        max_trials=20,\n",
    "        executions_per_trial=3,\n",
    "        epochs=10,\n",
    "        validation_split=0.3\n",
    "):\n",
    "    tuner = RandomSearch(\n",
    "        build_model,\n",
    "        seed=13418236482,\n",
    "        objective='val_loss',\n",
    "        max_trials=max_trials,\n",
    "        executions_per_trial=executions_per_trial,\n",
    "        directory='models',\n",
    "        project_name=name)\n",
    "\n",
    "    tuner.search_space_summary(True)\n",
    "\n",
    "    tuner.search(train_x, train_y,\n",
    "                 epochs=epochs,\n",
    "                 validation_split=validation_split)\n",
    "\n",
    "    return tuner.get_best_hyperparameters()[0]"
   ]
  },
  {
   "cell_type": "code",
   "execution_count": 106,
   "metadata": {
    "ExecuteTime": {
     "end_time": "2023-09-19T00:13:27.068084200Z",
     "start_time": "2023-09-19T00:13:25.629276300Z"
    },
    "collapsed": false
   },
   "outputs": [],
   "source": [
    "df = read_data_from_csv(f'{base_path}/data/daily_barbacena.csv')"
   ]
  },
  {
   "cell_type": "code",
   "execution_count": 107,
   "metadata": {
    "ExecuteTime": {
     "end_time": "2023-09-19T00:13:27.082244600Z",
     "start_time": "2023-09-19T00:13:27.064561600Z"
    },
    "collapsed": false
   },
   "outputs": [],
   "source": [
    "df = fill_df(df, interpolate_filler)"
   ]
  },
  {
   "cell_type": "code",
   "execution_count": 108,
   "metadata": {
    "ExecuteTime": {
     "end_time": "2023-09-19T00:13:27.145065Z",
     "start_time": "2023-09-19T00:13:27.076104600Z"
    },
    "collapsed": false
   },
   "outputs": [
    {
     "name": "stdout",
     "output_type": "stream",
     "text": [
      "            RADIATION       TEMP  HUMIDITY_h\n",
      "2003-03-21    19996.0  20.329167   81.375000\n",
      "2003-03-22    10907.0  19.037500   88.250000\n",
      "2003-03-23    10874.0  18.029167   89.250000\n",
      "2003-03-24    13185.0  18.520833   87.958333\n",
      "2003-03-25    20082.0  19.262500   80.958333\n",
      "...               ...        ...         ...\n",
      "2022-12-27    14196.5  18.629167   88.958333\n",
      "2022-12-28    10448.3  19.625000   88.500000\n",
      "2022-12-29     8247.8  19.362500   92.208333\n",
      "2022-12-30     8331.0  18.958333   93.458333\n",
      "2022-12-31    12611.2  18.854167   90.083333\n",
      "\n",
      "[7226 rows x 3 columns]             RADIATION      TEMP  HUMIDITY_h\n",
      "2003-03-21   0.230131  0.606321    0.773381\n",
      "2003-03-22   0.117728  0.541440    0.858171\n",
      "2003-03-23   0.117320  0.490791    0.870504\n",
      "2003-03-24   0.145900  0.515488    0.854573\n",
      "2003-03-25   0.231194  0.552742    0.768243\n",
      "...               ...       ...         ...\n",
      "2022-12-27   0.158409  0.520929    0.866906\n",
      "2022-12-28   0.112055  0.570950    0.861254\n",
      "2022-12-29   0.084842  0.557765    0.906989\n",
      "2022-12-30   0.085871  0.537463    0.922405\n",
      "2022-12-31   0.138804  0.532231    0.880781\n",
      "\n",
      "[7226 rows x 3 columns]\n"
     ]
    }
   ],
   "source": [
    "scaler = Scaler(df, (0,1))\n",
    "df_scaled = scaler.get_dataframe_scaled()\n",
    "print(df, df_scaled)"
   ]
  },
  {
   "cell_type": "code",
   "execution_count": 109,
   "metadata": {
    "ExecuteTime": {
     "end_time": "2023-09-19T00:13:27.145065Z",
     "start_time": "2023-09-19T00:13:27.100822300Z"
    },
    "collapsed": false
   },
   "outputs": [],
   "source": [
    "X, Y = windowing(df_scaled, predict_column='RADIATION', step_back=step_back, step_front=1)\n",
    "train_x, train_y, test_x, test_y = split_data(X, Y, length=len(df_scaled), ratio=0.9)"
   ]
  },
  {
   "cell_type": "markdown",
   "metadata": {
    "collapsed": false
   },
   "source": [
    "## LSTM"
   ]
  },
  {
   "cell_type": "code",
   "execution_count": 110,
   "metadata": {
    "ExecuteTime": {
     "end_time": "2023-09-19T00:13:27.161128900Z",
     "start_time": "2023-09-19T00:13:27.115349900Z"
    },
    "collapsed": false
   },
   "outputs": [
    {
     "name": "stdout",
     "output_type": "stream",
     "text": [
      "Trial 8 Complete [00h 01m 56s]\n",
      "val_loss: 0.004041260729233424\n",
      "\n",
      "Best val_loss So Far: 0.004041260729233424\n",
      "Total elapsed time: 00h 03m 06s\n",
      "\n",
      "Search: Running Trial #9\n",
      "\n",
      "Value             |Best Value So Far |Hyperparameter\n",
      "352               |512               |units\n",
      "0.35              |0.35              |dropout\n",
      "320               |288               |units_2\n",
      "sigmoid           |sigmoid           |activation\n",
      "0.01              |0.001             |learning_rate\n",
      "\n",
      "Epoch 1/10\n",
      "143/143 [==============================] - 4s 22ms/step - loss: 0.0466 - val_loss: 0.0419\n",
      "Epoch 2/10\n",
      "143/143 [==============================] - 3s 22ms/step - loss: 0.0461 - val_loss: 0.0419\n",
      "Epoch 3/10\n",
      "143/143 [==============================] - 3s 21ms/step - loss: 0.0461 - val_loss: 0.0419\n",
      "Epoch 4/10\n",
      "143/143 [==============================] - 3s 21ms/step - loss: 0.0461 - val_loss: 0.0419\n",
      "Epoch 5/10\n",
      "143/143 [==============================] - 3s 21ms/step - loss: 0.0461 - val_loss: 0.0419\n",
      "Epoch 6/10\n",
      "143/143 [==============================] - 3s 21ms/step - loss: 0.0461 - val_loss: 0.0419\n",
      "Epoch 7/10\n",
      "143/143 [==============================] - 3s 22ms/step - loss: 0.0461 - val_loss: 0.0419\n",
      "Epoch 8/10\n",
      "143/143 [==============================] - 3s 20ms/step - loss: 0.0461 - val_loss: 0.0419\n",
      "Epoch 9/10\n",
      "143/143 [==============================] - 3s 22ms/step - loss: 0.0461 - val_loss: 0.0419\n",
      "Epoch 10/10\n",
      " 53/143 [==========>...................] - ETA: 1s - loss: 0.0460"
     ]
    },
    {
     "ename": "KeyboardInterrupt",
     "evalue": "",
     "output_type": "error",
     "traceback": [
      "\u001b[0;31m---------------------------------------------------------------------------\u001b[0m",
      "\u001b[0;31mKeyboardInterrupt\u001b[0m                         Traceback (most recent call last)",
      "\u001b[1;32m/Users/yuri/git/diasYuri/tcc/radiation-forecast-mg/notebook/1. lstm_with_interpolation.ipynb Cell 10\u001b[0m line \u001b[0;36m1\n\u001b[0;32m----> <a href='vscode-notebook-cell:/Users/yuri/git/diasYuri/tcc/radiation-forecast-mg/notebook/1.%20lstm_with_interpolation.ipynb#X11sZmlsZQ%3D%3D?line=0'>1</a>\u001b[0m hp \u001b[39m=\u001b[39m model_search(\u001b[39m'\u001b[39;49m\u001b[39minterpolate_lstm_5_1_barbacena\u001b[39;49m\u001b[39m'\u001b[39;49m, train_x, train_y, \u001b[39m20\u001b[39;49m, \u001b[39m3\u001b[39;49m, \u001b[39m10\u001b[39;49m, \u001b[39m0.3\u001b[39;49m)\n\u001b[1;32m      <a href='vscode-notebook-cell:/Users/yuri/git/diasYuri/tcc/radiation-forecast-mg/notebook/1.%20lstm_with_interpolation.ipynb#X11sZmlsZQ%3D%3D?line=1'>2</a>\u001b[0m hp\u001b[39m.\u001b[39mvalues\n",
      "\u001b[1;32m/Users/yuri/git/diasYuri/tcc/radiation-forecast-mg/notebook/1. lstm_with_interpolation.ipynb Cell 10\u001b[0m line \u001b[0;36m4\n\u001b[1;32m     <a href='vscode-notebook-cell:/Users/yuri/git/diasYuri/tcc/radiation-forecast-mg/notebook/1.%20lstm_with_interpolation.ipynb#X11sZmlsZQ%3D%3D?line=35'>36</a>\u001b[0m tuner \u001b[39m=\u001b[39m RandomSearch(\n\u001b[1;32m     <a href='vscode-notebook-cell:/Users/yuri/git/diasYuri/tcc/radiation-forecast-mg/notebook/1.%20lstm_with_interpolation.ipynb#X11sZmlsZQ%3D%3D?line=36'>37</a>\u001b[0m     build_model,\n\u001b[1;32m     <a href='vscode-notebook-cell:/Users/yuri/git/diasYuri/tcc/radiation-forecast-mg/notebook/1.%20lstm_with_interpolation.ipynb#X11sZmlsZQ%3D%3D?line=37'>38</a>\u001b[0m     seed\u001b[39m=\u001b[39m\u001b[39m13418236482\u001b[39m,\n\u001b[0;32m   (...)\u001b[0m\n\u001b[1;32m     <a href='vscode-notebook-cell:/Users/yuri/git/diasYuri/tcc/radiation-forecast-mg/notebook/1.%20lstm_with_interpolation.ipynb#X11sZmlsZQ%3D%3D?line=41'>42</a>\u001b[0m     directory\u001b[39m=\u001b[39m\u001b[39m'\u001b[39m\u001b[39mmodels\u001b[39m\u001b[39m'\u001b[39m,\n\u001b[1;32m     <a href='vscode-notebook-cell:/Users/yuri/git/diasYuri/tcc/radiation-forecast-mg/notebook/1.%20lstm_with_interpolation.ipynb#X11sZmlsZQ%3D%3D?line=42'>43</a>\u001b[0m     project_name\u001b[39m=\u001b[39mname)\n\u001b[1;32m     <a href='vscode-notebook-cell:/Users/yuri/git/diasYuri/tcc/radiation-forecast-mg/notebook/1.%20lstm_with_interpolation.ipynb#X11sZmlsZQ%3D%3D?line=44'>45</a>\u001b[0m tuner\u001b[39m.\u001b[39msearch_space_summary(\u001b[39mTrue\u001b[39;00m)\n\u001b[0;32m---> <a href='vscode-notebook-cell:/Users/yuri/git/diasYuri/tcc/radiation-forecast-mg/notebook/1.%20lstm_with_interpolation.ipynb#X11sZmlsZQ%3D%3D?line=46'>47</a>\u001b[0m tuner\u001b[39m.\u001b[39;49msearch(train_x, train_y,\n\u001b[1;32m     <a href='vscode-notebook-cell:/Users/yuri/git/diasYuri/tcc/radiation-forecast-mg/notebook/1.%20lstm_with_interpolation.ipynb#X11sZmlsZQ%3D%3D?line=47'>48</a>\u001b[0m              epochs\u001b[39m=\u001b[39;49mepochs,\n\u001b[1;32m     <a href='vscode-notebook-cell:/Users/yuri/git/diasYuri/tcc/radiation-forecast-mg/notebook/1.%20lstm_with_interpolation.ipynb#X11sZmlsZQ%3D%3D?line=48'>49</a>\u001b[0m              validation_split\u001b[39m=\u001b[39;49mvalidation_split)\n\u001b[1;32m     <a href='vscode-notebook-cell:/Users/yuri/git/diasYuri/tcc/radiation-forecast-mg/notebook/1.%20lstm_with_interpolation.ipynb#X11sZmlsZQ%3D%3D?line=50'>51</a>\u001b[0m \u001b[39mreturn\u001b[39;00m tuner\u001b[39m.\u001b[39mget_best_hyperparameters()[\u001b[39m0\u001b[39m]\n",
      "File \u001b[0;32m~/sdk/miniforge3/envs/tf/lib/python3.9/site-packages/keras_tuner/src/engine/base_tuner.py:228\u001b[0m, in \u001b[0;36mBaseTuner.search\u001b[0;34m(self, *fit_args, **fit_kwargs)\u001b[0m\n\u001b[1;32m    225\u001b[0m         \u001b[39mcontinue\u001b[39;00m\n\u001b[1;32m    227\u001b[0m     \u001b[39mself\u001b[39m\u001b[39m.\u001b[39mon_trial_begin(trial)\n\u001b[0;32m--> 228\u001b[0m     \u001b[39mself\u001b[39;49m\u001b[39m.\u001b[39;49m_try_run_and_update_trial(trial, \u001b[39m*\u001b[39;49mfit_args, \u001b[39m*\u001b[39;49m\u001b[39m*\u001b[39;49mfit_kwargs)\n\u001b[1;32m    229\u001b[0m     \u001b[39mself\u001b[39m\u001b[39m.\u001b[39mon_trial_end(trial)\n\u001b[1;32m    230\u001b[0m \u001b[39mself\u001b[39m\u001b[39m.\u001b[39mon_search_end()\n",
      "File \u001b[0;32m~/sdk/miniforge3/envs/tf/lib/python3.9/site-packages/keras_tuner/src/engine/base_tuner.py:268\u001b[0m, in \u001b[0;36mBaseTuner._try_run_and_update_trial\u001b[0;34m(self, trial, *fit_args, **fit_kwargs)\u001b[0m\n\u001b[1;32m    266\u001b[0m \u001b[39mdef\u001b[39;00m \u001b[39m_try_run_and_update_trial\u001b[39m(\u001b[39mself\u001b[39m, trial, \u001b[39m*\u001b[39mfit_args, \u001b[39m*\u001b[39m\u001b[39m*\u001b[39mfit_kwargs):\n\u001b[1;32m    267\u001b[0m     \u001b[39mtry\u001b[39;00m:\n\u001b[0;32m--> 268\u001b[0m         \u001b[39mself\u001b[39;49m\u001b[39m.\u001b[39;49m_run_and_update_trial(trial, \u001b[39m*\u001b[39;49mfit_args, \u001b[39m*\u001b[39;49m\u001b[39m*\u001b[39;49mfit_kwargs)\n\u001b[1;32m    269\u001b[0m         trial\u001b[39m.\u001b[39mstatus \u001b[39m=\u001b[39m trial_module\u001b[39m.\u001b[39mTrialStatus\u001b[39m.\u001b[39mCOMPLETED\n\u001b[1;32m    270\u001b[0m         \u001b[39mreturn\u001b[39;00m\n",
      "File \u001b[0;32m~/sdk/miniforge3/envs/tf/lib/python3.9/site-packages/keras_tuner/src/engine/base_tuner.py:233\u001b[0m, in \u001b[0;36mBaseTuner._run_and_update_trial\u001b[0;34m(self, trial, *fit_args, **fit_kwargs)\u001b[0m\n\u001b[1;32m    232\u001b[0m \u001b[39mdef\u001b[39;00m \u001b[39m_run_and_update_trial\u001b[39m(\u001b[39mself\u001b[39m, trial, \u001b[39m*\u001b[39mfit_args, \u001b[39m*\u001b[39m\u001b[39m*\u001b[39mfit_kwargs):\n\u001b[0;32m--> 233\u001b[0m     results \u001b[39m=\u001b[39m \u001b[39mself\u001b[39;49m\u001b[39m.\u001b[39;49mrun_trial(trial, \u001b[39m*\u001b[39;49mfit_args, \u001b[39m*\u001b[39;49m\u001b[39m*\u001b[39;49mfit_kwargs)\n\u001b[1;32m    234\u001b[0m     \u001b[39mif\u001b[39;00m \u001b[39mself\u001b[39m\u001b[39m.\u001b[39moracle\u001b[39m.\u001b[39mget_trial(trial\u001b[39m.\u001b[39mtrial_id)\u001b[39m.\u001b[39mmetrics\u001b[39m.\u001b[39mexists(\n\u001b[1;32m    235\u001b[0m         \u001b[39mself\u001b[39m\u001b[39m.\u001b[39moracle\u001b[39m.\u001b[39mobjective\u001b[39m.\u001b[39mname\n\u001b[1;32m    236\u001b[0m     ):\n\u001b[1;32m    237\u001b[0m         \u001b[39m# The oracle is updated by calling `self.oracle.update_trial()` in\u001b[39;00m\n\u001b[1;32m    238\u001b[0m         \u001b[39m# `Tuner.run_trial()`. For backward compatibility, we support this\u001b[39;00m\n\u001b[1;32m    239\u001b[0m         \u001b[39m# use case. No further action needed in this case.\u001b[39;00m\n\u001b[1;32m    240\u001b[0m         warnings\u001b[39m.\u001b[39mwarn(\n\u001b[1;32m    241\u001b[0m             \u001b[39m\"\u001b[39m\u001b[39mThe use case of calling \u001b[39m\u001b[39m\"\u001b[39m\n\u001b[1;32m    242\u001b[0m             \u001b[39m\"\u001b[39m\u001b[39m`self.oracle.update_trial(trial_id, metrics)` \u001b[39m\u001b[39m\"\u001b[39m\n\u001b[0;32m   (...)\u001b[0m\n\u001b[1;32m    248\u001b[0m             stacklevel\u001b[39m=\u001b[39m\u001b[39m2\u001b[39m,\n\u001b[1;32m    249\u001b[0m         )\n",
      "File \u001b[0;32m~/sdk/miniforge3/envs/tf/lib/python3.9/site-packages/keras_tuner/src/engine/tuner.py:307\u001b[0m, in \u001b[0;36mTuner.run_trial\u001b[0;34m(self, trial, *args, **kwargs)\u001b[0m\n\u001b[1;32m    305\u001b[0m     callbacks\u001b[39m.\u001b[39mappend(model_checkpoint)\n\u001b[1;32m    306\u001b[0m     copied_kwargs[\u001b[39m\"\u001b[39m\u001b[39mcallbacks\u001b[39m\u001b[39m\"\u001b[39m] \u001b[39m=\u001b[39m callbacks\n\u001b[0;32m--> 307\u001b[0m     obj_value \u001b[39m=\u001b[39m \u001b[39mself\u001b[39;49m\u001b[39m.\u001b[39;49m_build_and_fit_model(trial, \u001b[39m*\u001b[39;49margs, \u001b[39m*\u001b[39;49m\u001b[39m*\u001b[39;49mcopied_kwargs)\n\u001b[1;32m    309\u001b[0m     histories\u001b[39m.\u001b[39mappend(obj_value)\n\u001b[1;32m    310\u001b[0m \u001b[39mreturn\u001b[39;00m histories\n",
      "File \u001b[0;32m~/sdk/miniforge3/envs/tf/lib/python3.9/site-packages/keras_tuner/src/engine/tuner.py:227\u001b[0m, in \u001b[0;36mTuner._build_and_fit_model\u001b[0;34m(self, trial, *args, **kwargs)\u001b[0m\n\u001b[1;32m    225\u001b[0m hp \u001b[39m=\u001b[39m trial\u001b[39m.\u001b[39mhyperparameters\n\u001b[1;32m    226\u001b[0m model \u001b[39m=\u001b[39m \u001b[39mself\u001b[39m\u001b[39m.\u001b[39m_try_build(hp)\n\u001b[0;32m--> 227\u001b[0m results \u001b[39m=\u001b[39m \u001b[39mself\u001b[39;49m\u001b[39m.\u001b[39;49mhypermodel\u001b[39m.\u001b[39;49mfit(hp, model, \u001b[39m*\u001b[39;49margs, \u001b[39m*\u001b[39;49m\u001b[39m*\u001b[39;49mkwargs)\n\u001b[1;32m    229\u001b[0m \u001b[39m# Save the build config for model loading later.\u001b[39;00m\n\u001b[1;32m    230\u001b[0m utils\u001b[39m.\u001b[39msave_json(\n\u001b[1;32m    231\u001b[0m     \u001b[39mself\u001b[39m\u001b[39m.\u001b[39m_get_build_config_fname(trial\u001b[39m.\u001b[39mtrial_id),\n\u001b[1;32m    232\u001b[0m     model\u001b[39m.\u001b[39mget_build_config(),\n\u001b[1;32m    233\u001b[0m )\n",
      "File \u001b[0;32m~/sdk/miniforge3/envs/tf/lib/python3.9/site-packages/keras_tuner/src/engine/hypermodel.py:144\u001b[0m, in \u001b[0;36mHyperModel.fit\u001b[0;34m(self, hp, model, *args, **kwargs)\u001b[0m\n\u001b[1;32m    120\u001b[0m \u001b[39mdef\u001b[39;00m \u001b[39mfit\u001b[39m(\u001b[39mself\u001b[39m, hp, model, \u001b[39m*\u001b[39margs, \u001b[39m*\u001b[39m\u001b[39m*\u001b[39mkwargs):\n\u001b[1;32m    121\u001b[0m \u001b[39m    \u001b[39m\u001b[39m\"\"\"Train the model.\u001b[39;00m\n\u001b[1;32m    122\u001b[0m \n\u001b[1;32m    123\u001b[0m \u001b[39m    Args:\u001b[39;00m\n\u001b[0;32m   (...)\u001b[0m\n\u001b[1;32m    142\u001b[0m \u001b[39m        If return a float, it should be the `objective` value.\u001b[39;00m\n\u001b[1;32m    143\u001b[0m \u001b[39m    \"\"\"\u001b[39;00m\n\u001b[0;32m--> 144\u001b[0m     \u001b[39mreturn\u001b[39;00m model\u001b[39m.\u001b[39;49mfit(\u001b[39m*\u001b[39;49margs, \u001b[39m*\u001b[39;49m\u001b[39m*\u001b[39;49mkwargs)\n",
      "File \u001b[0;32m~/sdk/miniforge3/envs/tf/lib/python3.9/site-packages/keras/src/utils/traceback_utils.py:65\u001b[0m, in \u001b[0;36mfilter_traceback.<locals>.error_handler\u001b[0;34m(*args, **kwargs)\u001b[0m\n\u001b[1;32m     63\u001b[0m filtered_tb \u001b[39m=\u001b[39m \u001b[39mNone\u001b[39;00m\n\u001b[1;32m     64\u001b[0m \u001b[39mtry\u001b[39;00m:\n\u001b[0;32m---> 65\u001b[0m     \u001b[39mreturn\u001b[39;00m fn(\u001b[39m*\u001b[39;49margs, \u001b[39m*\u001b[39;49m\u001b[39m*\u001b[39;49mkwargs)\n\u001b[1;32m     66\u001b[0m \u001b[39mexcept\u001b[39;00m \u001b[39mException\u001b[39;00m \u001b[39mas\u001b[39;00m e:\n\u001b[1;32m     67\u001b[0m     filtered_tb \u001b[39m=\u001b[39m _process_traceback_frames(e\u001b[39m.\u001b[39m__traceback__)\n",
      "File \u001b[0;32m~/sdk/miniforge3/envs/tf/lib/python3.9/site-packages/keras/src/engine/training.py:1742\u001b[0m, in \u001b[0;36mModel.fit\u001b[0;34m(self, x, y, batch_size, epochs, verbose, callbacks, validation_split, validation_data, shuffle, class_weight, sample_weight, initial_epoch, steps_per_epoch, validation_steps, validation_batch_size, validation_freq, max_queue_size, workers, use_multiprocessing)\u001b[0m\n\u001b[1;32m   1734\u001b[0m \u001b[39mwith\u001b[39;00m tf\u001b[39m.\u001b[39mprofiler\u001b[39m.\u001b[39mexperimental\u001b[39m.\u001b[39mTrace(\n\u001b[1;32m   1735\u001b[0m     \u001b[39m\"\u001b[39m\u001b[39mtrain\u001b[39m\u001b[39m\"\u001b[39m,\n\u001b[1;32m   1736\u001b[0m     epoch_num\u001b[39m=\u001b[39mepoch,\n\u001b[0;32m   (...)\u001b[0m\n\u001b[1;32m   1739\u001b[0m     _r\u001b[39m=\u001b[39m\u001b[39m1\u001b[39m,\n\u001b[1;32m   1740\u001b[0m ):\n\u001b[1;32m   1741\u001b[0m     callbacks\u001b[39m.\u001b[39mon_train_batch_begin(step)\n\u001b[0;32m-> 1742\u001b[0m     tmp_logs \u001b[39m=\u001b[39m \u001b[39mself\u001b[39;49m\u001b[39m.\u001b[39;49mtrain_function(iterator)\n\u001b[1;32m   1743\u001b[0m     \u001b[39mif\u001b[39;00m data_handler\u001b[39m.\u001b[39mshould_sync:\n\u001b[1;32m   1744\u001b[0m         context\u001b[39m.\u001b[39masync_wait()\n",
      "File \u001b[0;32m~/sdk/miniforge3/envs/tf/lib/python3.9/site-packages/tensorflow/python/util/traceback_utils.py:150\u001b[0m, in \u001b[0;36mfilter_traceback.<locals>.error_handler\u001b[0;34m(*args, **kwargs)\u001b[0m\n\u001b[1;32m    148\u001b[0m filtered_tb \u001b[39m=\u001b[39m \u001b[39mNone\u001b[39;00m\n\u001b[1;32m    149\u001b[0m \u001b[39mtry\u001b[39;00m:\n\u001b[0;32m--> 150\u001b[0m   \u001b[39mreturn\u001b[39;00m fn(\u001b[39m*\u001b[39;49margs, \u001b[39m*\u001b[39;49m\u001b[39m*\u001b[39;49mkwargs)\n\u001b[1;32m    151\u001b[0m \u001b[39mexcept\u001b[39;00m \u001b[39mException\u001b[39;00m \u001b[39mas\u001b[39;00m e:\n\u001b[1;32m    152\u001b[0m   filtered_tb \u001b[39m=\u001b[39m _process_traceback_frames(e\u001b[39m.\u001b[39m__traceback__)\n",
      "File \u001b[0;32m~/sdk/miniforge3/envs/tf/lib/python3.9/site-packages/tensorflow/python/eager/polymorphic_function/polymorphic_function.py:825\u001b[0m, in \u001b[0;36mFunction.__call__\u001b[0;34m(self, *args, **kwds)\u001b[0m\n\u001b[1;32m    822\u001b[0m compiler \u001b[39m=\u001b[39m \u001b[39m\"\u001b[39m\u001b[39mxla\u001b[39m\u001b[39m\"\u001b[39m \u001b[39mif\u001b[39;00m \u001b[39mself\u001b[39m\u001b[39m.\u001b[39m_jit_compile \u001b[39melse\u001b[39;00m \u001b[39m\"\u001b[39m\u001b[39mnonXla\u001b[39m\u001b[39m\"\u001b[39m\n\u001b[1;32m    824\u001b[0m \u001b[39mwith\u001b[39;00m OptionalXlaContext(\u001b[39mself\u001b[39m\u001b[39m.\u001b[39m_jit_compile):\n\u001b[0;32m--> 825\u001b[0m   result \u001b[39m=\u001b[39m \u001b[39mself\u001b[39;49m\u001b[39m.\u001b[39;49m_call(\u001b[39m*\u001b[39;49margs, \u001b[39m*\u001b[39;49m\u001b[39m*\u001b[39;49mkwds)\n\u001b[1;32m    827\u001b[0m new_tracing_count \u001b[39m=\u001b[39m \u001b[39mself\u001b[39m\u001b[39m.\u001b[39mexperimental_get_tracing_count()\n\u001b[1;32m    828\u001b[0m without_tracing \u001b[39m=\u001b[39m (tracing_count \u001b[39m==\u001b[39m new_tracing_count)\n",
      "File \u001b[0;32m~/sdk/miniforge3/envs/tf/lib/python3.9/site-packages/tensorflow/python/eager/polymorphic_function/polymorphic_function.py:857\u001b[0m, in \u001b[0;36mFunction._call\u001b[0;34m(self, *args, **kwds)\u001b[0m\n\u001b[1;32m    854\u001b[0m   \u001b[39mself\u001b[39m\u001b[39m.\u001b[39m_lock\u001b[39m.\u001b[39mrelease()\n\u001b[1;32m    855\u001b[0m   \u001b[39m# In this case we have created variables on the first call, so we run the\u001b[39;00m\n\u001b[1;32m    856\u001b[0m   \u001b[39m# defunned version which is guaranteed to never create variables.\u001b[39;00m\n\u001b[0;32m--> 857\u001b[0m   \u001b[39mreturn\u001b[39;00m \u001b[39mself\u001b[39;49m\u001b[39m.\u001b[39;49m_no_variable_creation_fn(\u001b[39m*\u001b[39;49margs, \u001b[39m*\u001b[39;49m\u001b[39m*\u001b[39;49mkwds)  \u001b[39m# pylint: disable=not-callable\u001b[39;00m\n\u001b[1;32m    858\u001b[0m \u001b[39melif\u001b[39;00m \u001b[39mself\u001b[39m\u001b[39m.\u001b[39m_variable_creation_fn \u001b[39mis\u001b[39;00m \u001b[39mnot\u001b[39;00m \u001b[39mNone\u001b[39;00m:\n\u001b[1;32m    859\u001b[0m   \u001b[39m# Release the lock early so that multiple threads can perform the call\u001b[39;00m\n\u001b[1;32m    860\u001b[0m   \u001b[39m# in parallel.\u001b[39;00m\n\u001b[1;32m    861\u001b[0m   \u001b[39mself\u001b[39m\u001b[39m.\u001b[39m_lock\u001b[39m.\u001b[39mrelease()\n",
      "File \u001b[0;32m~/sdk/miniforge3/envs/tf/lib/python3.9/site-packages/tensorflow/python/eager/polymorphic_function/tracing_compiler.py:148\u001b[0m, in \u001b[0;36mTracingCompiler.__call__\u001b[0;34m(self, *args, **kwargs)\u001b[0m\n\u001b[1;32m    145\u001b[0m \u001b[39mwith\u001b[39;00m \u001b[39mself\u001b[39m\u001b[39m.\u001b[39m_lock:\n\u001b[1;32m    146\u001b[0m   (concrete_function,\n\u001b[1;32m    147\u001b[0m    filtered_flat_args) \u001b[39m=\u001b[39m \u001b[39mself\u001b[39m\u001b[39m.\u001b[39m_maybe_define_function(args, kwargs)\n\u001b[0;32m--> 148\u001b[0m \u001b[39mreturn\u001b[39;00m concrete_function\u001b[39m.\u001b[39;49m_call_flat(\n\u001b[1;32m    149\u001b[0m     filtered_flat_args, captured_inputs\u001b[39m=\u001b[39;49mconcrete_function\u001b[39m.\u001b[39;49mcaptured_inputs)\n",
      "File \u001b[0;32m~/sdk/miniforge3/envs/tf/lib/python3.9/site-packages/tensorflow/python/eager/polymorphic_function/monomorphic_function.py:1349\u001b[0m, in \u001b[0;36mConcreteFunction._call_flat\u001b[0;34m(self, args, captured_inputs)\u001b[0m\n\u001b[1;32m   1345\u001b[0m possible_gradient_type \u001b[39m=\u001b[39m gradients_util\u001b[39m.\u001b[39mPossibleTapeGradientTypes(args)\n\u001b[1;32m   1346\u001b[0m \u001b[39mif\u001b[39;00m (possible_gradient_type \u001b[39m==\u001b[39m gradients_util\u001b[39m.\u001b[39mPOSSIBLE_GRADIENT_TYPES_NONE\n\u001b[1;32m   1347\u001b[0m     \u001b[39mand\u001b[39;00m executing_eagerly):\n\u001b[1;32m   1348\u001b[0m   \u001b[39m# No tape is watching; skip to running the function.\u001b[39;00m\n\u001b[0;32m-> 1349\u001b[0m   \u001b[39mreturn\u001b[39;00m \u001b[39mself\u001b[39m\u001b[39m.\u001b[39m_build_call_outputs(\u001b[39mself\u001b[39;49m\u001b[39m.\u001b[39;49m_inference_function(\u001b[39m*\u001b[39;49margs))\n\u001b[1;32m   1350\u001b[0m forward_backward \u001b[39m=\u001b[39m \u001b[39mself\u001b[39m\u001b[39m.\u001b[39m_select_forward_and_backward_functions(\n\u001b[1;32m   1351\u001b[0m     args,\n\u001b[1;32m   1352\u001b[0m     possible_gradient_type,\n\u001b[1;32m   1353\u001b[0m     executing_eagerly)\n\u001b[1;32m   1354\u001b[0m forward_function, args_with_tangents \u001b[39m=\u001b[39m forward_backward\u001b[39m.\u001b[39mforward()\n",
      "File \u001b[0;32m~/sdk/miniforge3/envs/tf/lib/python3.9/site-packages/tensorflow/python/eager/polymorphic_function/atomic_function.py:196\u001b[0m, in \u001b[0;36mAtomicFunction.__call__\u001b[0;34m(self, *args)\u001b[0m\n\u001b[1;32m    194\u001b[0m \u001b[39mwith\u001b[39;00m record\u001b[39m.\u001b[39mstop_recording():\n\u001b[1;32m    195\u001b[0m   \u001b[39mif\u001b[39;00m \u001b[39mself\u001b[39m\u001b[39m.\u001b[39m_bound_context\u001b[39m.\u001b[39mexecuting_eagerly():\n\u001b[0;32m--> 196\u001b[0m     outputs \u001b[39m=\u001b[39m \u001b[39mself\u001b[39;49m\u001b[39m.\u001b[39;49m_bound_context\u001b[39m.\u001b[39;49mcall_function(\n\u001b[1;32m    197\u001b[0m         \u001b[39mself\u001b[39;49m\u001b[39m.\u001b[39;49mname,\n\u001b[1;32m    198\u001b[0m         \u001b[39mlist\u001b[39;49m(args),\n\u001b[1;32m    199\u001b[0m         \u001b[39mlen\u001b[39;49m(\u001b[39mself\u001b[39;49m\u001b[39m.\u001b[39;49mfunction_type\u001b[39m.\u001b[39;49mflat_outputs),\n\u001b[1;32m    200\u001b[0m     )\n\u001b[1;32m    201\u001b[0m   \u001b[39melse\u001b[39;00m:\n\u001b[1;32m    202\u001b[0m     outputs \u001b[39m=\u001b[39m make_call_op_in_graph(\u001b[39mself\u001b[39m, \u001b[39mlist\u001b[39m(args))\n",
      "File \u001b[0;32m~/sdk/miniforge3/envs/tf/lib/python3.9/site-packages/tensorflow/python/eager/context.py:1457\u001b[0m, in \u001b[0;36mContext.call_function\u001b[0;34m(self, name, tensor_inputs, num_outputs)\u001b[0m\n\u001b[1;32m   1455\u001b[0m cancellation_context \u001b[39m=\u001b[39m cancellation\u001b[39m.\u001b[39mcontext()\n\u001b[1;32m   1456\u001b[0m \u001b[39mif\u001b[39;00m cancellation_context \u001b[39mis\u001b[39;00m \u001b[39mNone\u001b[39;00m:\n\u001b[0;32m-> 1457\u001b[0m   outputs \u001b[39m=\u001b[39m execute\u001b[39m.\u001b[39;49mexecute(\n\u001b[1;32m   1458\u001b[0m       name\u001b[39m.\u001b[39;49mdecode(\u001b[39m\"\u001b[39;49m\u001b[39mutf-8\u001b[39;49m\u001b[39m\"\u001b[39;49m),\n\u001b[1;32m   1459\u001b[0m       num_outputs\u001b[39m=\u001b[39;49mnum_outputs,\n\u001b[1;32m   1460\u001b[0m       inputs\u001b[39m=\u001b[39;49mtensor_inputs,\n\u001b[1;32m   1461\u001b[0m       attrs\u001b[39m=\u001b[39;49mattrs,\n\u001b[1;32m   1462\u001b[0m       ctx\u001b[39m=\u001b[39;49m\u001b[39mself\u001b[39;49m,\n\u001b[1;32m   1463\u001b[0m   )\n\u001b[1;32m   1464\u001b[0m \u001b[39melse\u001b[39;00m:\n\u001b[1;32m   1465\u001b[0m   outputs \u001b[39m=\u001b[39m execute\u001b[39m.\u001b[39mexecute_with_cancellation(\n\u001b[1;32m   1466\u001b[0m       name\u001b[39m.\u001b[39mdecode(\u001b[39m\"\u001b[39m\u001b[39mutf-8\u001b[39m\u001b[39m\"\u001b[39m),\n\u001b[1;32m   1467\u001b[0m       num_outputs\u001b[39m=\u001b[39mnum_outputs,\n\u001b[0;32m   (...)\u001b[0m\n\u001b[1;32m   1471\u001b[0m       cancellation_manager\u001b[39m=\u001b[39mcancellation_context,\n\u001b[1;32m   1472\u001b[0m   )\n",
      "File \u001b[0;32m~/sdk/miniforge3/envs/tf/lib/python3.9/site-packages/tensorflow/python/eager/execute.py:53\u001b[0m, in \u001b[0;36mquick_execute\u001b[0;34m(op_name, num_outputs, inputs, attrs, ctx, name)\u001b[0m\n\u001b[1;32m     51\u001b[0m \u001b[39mtry\u001b[39;00m:\n\u001b[1;32m     52\u001b[0m   ctx\u001b[39m.\u001b[39mensure_initialized()\n\u001b[0;32m---> 53\u001b[0m   tensors \u001b[39m=\u001b[39m pywrap_tfe\u001b[39m.\u001b[39;49mTFE_Py_Execute(ctx\u001b[39m.\u001b[39;49m_handle, device_name, op_name,\n\u001b[1;32m     54\u001b[0m                                       inputs, attrs, num_outputs)\n\u001b[1;32m     55\u001b[0m \u001b[39mexcept\u001b[39;00m core\u001b[39m.\u001b[39m_NotOkStatusException \u001b[39mas\u001b[39;00m e:\n\u001b[1;32m     56\u001b[0m   \u001b[39mif\u001b[39;00m name \u001b[39mis\u001b[39;00m \u001b[39mnot\u001b[39;00m \u001b[39mNone\u001b[39;00m:\n",
      "\u001b[0;31mKeyboardInterrupt\u001b[0m: "
     ]
    }
   ],
   "source": [
    "#hp = model_search('interpolate_lstm_5_1_barbacena', train_x, train_y, 20, 3, 10, 0.3)\n",
    "#hp.values"
   ]
  },
  {
   "cell_type": "code",
   "execution_count": null,
   "metadata": {
    "ExecuteTime": {
     "end_time": "2023-09-19T00:14:43.320119Z",
     "start_time": "2023-09-19T00:13:27.166120300Z"
    },
    "collapsed": false
   },
   "outputs": [],
   "source": [
    "# model = build_model(hp)\n",
    "\n",
    "# # fit network\n",
    "# es = EarlyStopping(monitor='val_loss', mode='min', verbose=1, patience=15)\n",
    "# history = model.fit(train_x,\n",
    "#                     train_y,\n",
    "#                     epochs=200,\n",
    "#                     batch_size=72,\n",
    "#                     validation_data=(test_x, test_y),\n",
    "#                     validation_split=0.3,\n",
    "#                     verbose=2,\n",
    "#                     callbacks=[es],\n",
    "#                     workers=4,\n",
    "#                     use_multiprocessing=True)\n",
    "# # plot history\n",
    "# pyplot.plot(history.history['loss'], label='train')\n",
    "# pyplot.plot(history.history['val_loss'], label='validation')\n",
    "# pyplot.legend()\n",
    "# pyplot.show()"
   ]
  },
  {
   "cell_type": "code",
   "execution_count": null,
   "metadata": {
    "ExecuteTime": {
     "end_time": "2023-09-19T00:14:44.085937600Z",
     "start_time": "2023-09-19T00:14:43.326166400Z"
    },
    "collapsed": false
   },
   "outputs": [],
   "source": [
    "# predict = model.predict(test_x)\n",
    "\n",
    "# real = scaler.scales['RADIATION'].inverse_transform(test_y.reshape(-1,1))\n",
    "# predict = scaler.scales['RADIATION'].inverse_transform(predict)"
   ]
  },
  {
   "cell_type": "code",
   "execution_count": null,
   "metadata": {
    "ExecuteTime": {
     "end_time": "2023-09-19T00:14:44.239464600Z",
     "start_time": "2023-09-19T00:14:44.090452Z"
    },
    "collapsed": false
   },
   "outputs": [],
   "source": [
    "# range_plot = 100\n",
    "\n",
    "# pyplot.plot(real[0:range_plot], color='blue', label='real')\n",
    "# pyplot.plot(predict[0:range_plot], color='red', label='incompleto')\n",
    "\n",
    "# show_error_metrics(real, predict)\n",
    "\n",
    "# pyplot.show()"
   ]
  },
  {
   "cell_type": "markdown",
   "metadata": {
    "collapsed": false
   },
   "source": [
    "## Manual Model"
   ]
  },
  {
   "cell_type": "code",
   "execution_count": null,
   "metadata": {
    "ExecuteTime": {
     "end_time": "2023-09-19T00:14:44.239464600Z",
     "start_time": "2023-09-19T00:14:44.230886Z"
    },
    "collapsed": false
   },
   "outputs": [
    {
     "name": "stdout",
     "output_type": "stream",
     "text": [
      "(717, 5, 3) (717,)\n"
     ]
    }
   ],
   "source": [
    "print(test_x.shape, test_y.shape)"
   ]
  },
  {
   "cell_type": "code",
   "execution_count": 115,
   "metadata": {},
   "outputs": [],
   "source": [
    "from keras.models import Sequential\n",
    "from keras.layers import Bidirectional, Dropout, Activation, Dense, LSTM, InputLayer\n",
    "from keras.callbacks import EarlyStopping, ModelCheckpoint\n",
    "from tensorflow.keras.models import load_model"
   ]
  },
  {
   "cell_type": "code",
   "execution_count": 124,
   "metadata": {},
   "outputs": [],
   "source": [
    "model2 = load_model('models-keras/lstm-interpolation-5-1')"
   ]
  },
  {
   "cell_type": "code",
   "execution_count": 134,
   "metadata": {
    "ExecuteTime": {
     "end_time": "2023-09-19T00:19:03.929342600Z",
     "start_time": "2023-09-19T00:18:29.644167200Z"
    },
    "collapsed": false
   },
   "outputs": [
    {
     "name": "stdout",
     "output_type": "stream",
     "text": [
      "Model: \"sequential_13\"\n",
      "_________________________________________________________________\n",
      " Layer (type)                Output Shape              Param #   \n",
      "=================================================================\n",
      " lstm_22 (LSTM)              (None, 350)               495600    \n",
      "                                                                 \n",
      " dense_13 (Dense)            (None, 1)                 351       \n",
      "                                                                 \n",
      "=================================================================\n",
      "Total params: 495951 (1.89 MB)\n",
      "Trainable params: 495951 (1.89 MB)\n",
      "Non-trainable params: 0 (0.00 Byte)\n",
      "_________________________________________________________________\n",
      "Model Summary None\n",
      "Epoch 1/5000\n",
      "92/92 [==============================] - 2s 16ms/step - loss: 0.0067 - val_loss: 0.0041\n",
      "Epoch 2/5000\n",
      "92/92 [==============================] - 1s 13ms/step - loss: 0.0047 - val_loss: 0.0037\n",
      "Epoch 3/5000\n",
      "92/92 [==============================] - 1s 13ms/step - loss: 0.0045 - val_loss: 0.0033\n",
      "Epoch 4/5000\n",
      "92/92 [==============================] - 1s 13ms/step - loss: 0.0041 - val_loss: 0.0034\n",
      "Epoch 5/5000\n",
      "92/92 [==============================] - 1s 13ms/step - loss: 0.0040 - val_loss: 0.0032\n",
      "Epoch 6/5000\n",
      "92/92 [==============================] - 1s 13ms/step - loss: 0.0040 - val_loss: 0.0032\n",
      "Epoch 7/5000\n",
      "92/92 [==============================] - 1s 13ms/step - loss: 0.0041 - val_loss: 0.0034\n",
      "Epoch 8/5000\n",
      "92/92 [==============================] - 1s 14ms/step - loss: 0.0040 - val_loss: 0.0033\n",
      "Epoch 9/5000\n",
      "92/92 [==============================] - 1s 15ms/step - loss: 0.0039 - val_loss: 0.0032\n",
      "Epoch 10/5000\n",
      "92/92 [==============================] - 1s 14ms/step - loss: 0.0039 - val_loss: 0.0035\n",
      "Epoch 11/5000\n",
      "92/92 [==============================] - 1s 13ms/step - loss: 0.0039 - val_loss: 0.0033\n",
      "Epoch 12/5000\n",
      "92/92 [==============================] - 1s 13ms/step - loss: 0.0039 - val_loss: 0.0033\n",
      "Epoch 13/5000\n",
      "92/92 [==============================] - 1s 13ms/step - loss: 0.0039 - val_loss: 0.0032\n",
      "Epoch 14/5000\n",
      "92/92 [==============================] - 1s 13ms/step - loss: 0.0039 - val_loss: 0.0032\n",
      "Epoch 15/5000\n",
      "92/92 [==============================] - 1s 13ms/step - loss: 0.0040 - val_loss: 0.0033\n",
      "Epoch 16/5000\n",
      "92/92 [==============================] - 1s 13ms/step - loss: 0.0039 - val_loss: 0.0036\n",
      "Epoch 17/5000\n",
      "92/92 [==============================] - 1s 14ms/step - loss: 0.0039 - val_loss: 0.0033\n",
      "Epoch 18/5000\n",
      "92/92 [==============================] - 1s 13ms/step - loss: 0.0039 - val_loss: 0.0032\n",
      "Epoch 19/5000\n",
      "92/92 [==============================] - 1s 14ms/step - loss: 0.0039 - val_loss: 0.0035\n",
      "Epoch 20/5000\n",
      "92/92 [==============================] - 1s 13ms/step - loss: 0.0039 - val_loss: 0.0034\n",
      "Epoch 21/5000\n",
      "92/92 [==============================] - 1s 15ms/step - loss: 0.0040 - val_loss: 0.0032\n",
      "Epoch 22/5000\n",
      "92/92 [==============================] - 1s 14ms/step - loss: 0.0039 - val_loss: 0.0034\n",
      "Epoch 23/5000\n",
      "92/92 [==============================] - 1s 13ms/step - loss: 0.0040 - val_loss: 0.0033\n",
      "Epoch 24/5000\n",
      "92/92 [==============================] - 1s 15ms/step - loss: 0.0039 - val_loss: 0.0033\n",
      "Epoch 25/5000\n",
      "92/92 [==============================] - 1s 14ms/step - loss: 0.0039 - val_loss: 0.0033\n",
      "Epoch 26/5000\n",
      "92/92 [==============================] - 1s 13ms/step - loss: 0.0039 - val_loss: 0.0032\n",
      "Epoch 27/5000\n",
      "92/92 [==============================] - 1s 14ms/step - loss: 0.0039 - val_loss: 0.0033\n",
      "Epoch 28/5000\n",
      "92/92 [==============================] - 1s 13ms/step - loss: 0.0039 - val_loss: 0.0032\n",
      "Epoch 29/5000\n",
      "92/92 [==============================] - 1s 14ms/step - loss: 0.0039 - val_loss: 0.0033\n",
      "Epoch 30/5000\n",
      "92/92 [==============================] - 1s 14ms/step - loss: 0.0039 - val_loss: 0.0035\n",
      "Epoch 31/5000\n",
      "92/92 [==============================] - 1s 14ms/step - loss: 0.0039 - val_loss: 0.0033\n",
      "Epoch 32/5000\n",
      "92/92 [==============================] - 1s 14ms/step - loss: 0.0039 - val_loss: 0.0033\n",
      "Epoch 33/5000\n",
      "92/92 [==============================] - 1s 14ms/step - loss: 0.0039 - val_loss: 0.0033\n",
      "Epoch 34/5000\n",
      "92/92 [==============================] - 1s 13ms/step - loss: 0.0039 - val_loss: 0.0032\n",
      "Epoch 35/5000\n",
      "92/92 [==============================] - 1s 14ms/step - loss: 0.0039 - val_loss: 0.0033\n",
      "Epoch 36/5000\n",
      "92/92 [==============================] - 1s 14ms/step - loss: 0.0039 - val_loss: 0.0033\n",
      "Epoch 37/5000\n",
      "92/92 [==============================] - 1s 13ms/step - loss: 0.0039 - val_loss: 0.0033\n",
      "Epoch 38/5000\n",
      "92/92 [==============================] - 1s 14ms/step - loss: 0.0039 - val_loss: 0.0032\n",
      "Epoch 39/5000\n",
      "92/92 [==============================] - 1s 14ms/step - loss: 0.0039 - val_loss: 0.0034\n",
      "Epoch 40/5000\n",
      "92/92 [==============================] - 1s 14ms/step - loss: 0.0040 - val_loss: 0.0033\n",
      "Epoch 41/5000\n",
      "92/92 [==============================] - 1s 14ms/step - loss: 0.0039 - val_loss: 0.0033\n",
      "Epoch 42/5000\n",
      "92/92 [==============================] - 1s 13ms/step - loss: 0.0039 - val_loss: 0.0033\n",
      "Epoch 43/5000\n",
      "92/92 [==============================] - 1s 13ms/step - loss: 0.0039 - val_loss: 0.0033\n",
      "Epoch 44/5000\n",
      "92/92 [==============================] - 1s 14ms/step - loss: 0.0039 - val_loss: 0.0035\n",
      "Epoch 45/5000\n",
      "92/92 [==============================] - 1s 14ms/step - loss: 0.0038 - val_loss: 0.0032\n",
      "Epoch 46/5000\n",
      "92/92 [==============================] - 1s 13ms/step - loss: 0.0039 - val_loss: 0.0033\n",
      "Epoch 47/5000\n",
      "92/92 [==============================] - 1s 13ms/step - loss: 0.0039 - val_loss: 0.0035\n",
      "Epoch 48/5000\n",
      "92/92 [==============================] - 1s 13ms/step - loss: 0.0038 - val_loss: 0.0034\n",
      "Epoch 49/5000\n",
      "92/92 [==============================] - 1s 13ms/step - loss: 0.0039 - val_loss: 0.0032\n",
      "Epoch 50/5000\n",
      "92/92 [==============================] - 1s 13ms/step - loss: 0.0039 - val_loss: 0.0033\n",
      "Epoch 51/5000\n",
      "92/92 [==============================] - 1s 13ms/step - loss: 0.0039 - val_loss: 0.0033\n",
      "Epoch 52/5000\n",
      "92/92 [==============================] - 1s 13ms/step - loss: 0.0039 - val_loss: 0.0032\n",
      "Epoch 53/5000\n",
      "92/92 [==============================] - 1s 13ms/step - loss: 0.0039 - val_loss: 0.0032\n",
      "Epoch 54/5000\n",
      "92/92 [==============================] - 1s 13ms/step - loss: 0.0038 - val_loss: 0.0034\n",
      "Epoch 55/5000\n",
      "92/92 [==============================] - 1s 13ms/step - loss: 0.0039 - val_loss: 0.0038\n",
      "Epoch 56/5000\n",
      "92/92 [==============================] - 1s 13ms/step - loss: 0.0039 - val_loss: 0.0032\n",
      "Epoch 57/5000\n",
      "92/92 [==============================] - 1s 13ms/step - loss: 0.0039 - val_loss: 0.0033\n",
      "Epoch 58/5000\n",
      "92/92 [==============================] - 1s 13ms/step - loss: 0.0038 - val_loss: 0.0032\n",
      "Epoch 59/5000\n",
      "92/92 [==============================] - 1s 13ms/step - loss: 0.0038 - val_loss: 0.0033\n",
      "Epoch 60/5000\n",
      "92/92 [==============================] - 1s 13ms/step - loss: 0.0038 - val_loss: 0.0032\n",
      "Epoch 61/5000\n",
      "92/92 [==============================] - 1s 13ms/step - loss: 0.0038 - val_loss: 0.0032\n",
      "Epoch 62/5000\n",
      "92/92 [==============================] - 1s 13ms/step - loss: 0.0038 - val_loss: 0.0035\n",
      "Epoch 63/5000\n",
      "92/92 [==============================] - 1s 13ms/step - loss: 0.0038 - val_loss: 0.0032\n",
      "Epoch 64/5000\n",
      "92/92 [==============================] - 1s 13ms/step - loss: 0.0038 - val_loss: 0.0032\n",
      "Epoch 65/5000\n",
      "92/92 [==============================] - 1s 13ms/step - loss: 0.0038 - val_loss: 0.0032\n",
      "Epoch 66/5000\n",
      "92/92 [==============================] - 1s 13ms/step - loss: 0.0039 - val_loss: 0.0032\n",
      "Epoch 67/5000\n",
      "92/92 [==============================] - 1s 13ms/step - loss: 0.0038 - val_loss: 0.0032\n",
      "Epoch 68/5000\n",
      "92/92 [==============================] - 1s 14ms/step - loss: 0.0038 - val_loss: 0.0032\n",
      "Epoch 69/5000\n",
      "92/92 [==============================] - 1s 14ms/step - loss: 0.0038 - val_loss: 0.0032\n",
      "Epoch 70/5000\n",
      "92/92 [==============================] - 1s 13ms/step - loss: 0.0038 - val_loss: 0.0032\n",
      "Epoch 71/5000\n",
      "92/92 [==============================] - 1s 13ms/step - loss: 0.0038 - val_loss: 0.0032\n",
      "Epoch 72/5000\n",
      "92/92 [==============================] - 1s 14ms/step - loss: 0.0038 - val_loss: 0.0033\n",
      "Epoch 73/5000\n",
      "92/92 [==============================] - 1s 13ms/step - loss: 0.0038 - val_loss: 0.0032\n",
      "Epoch 74/5000\n",
      "92/92 [==============================] - 1s 14ms/step - loss: 0.0038 - val_loss: 0.0033\n",
      "Epoch 75/5000\n",
      "92/92 [==============================] - 1s 14ms/step - loss: 0.0038 - val_loss: 0.0033\n",
      "Epoch 76/5000\n",
      "92/92 [==============================] - 1s 13ms/step - loss: 0.0038 - val_loss: 0.0034\n",
      "Epoch 77/5000\n",
      "92/92 [==============================] - 1s 13ms/step - loss: 0.0038 - val_loss: 0.0034\n",
      "Epoch 78/5000\n",
      "92/92 [==============================] - 1s 14ms/step - loss: 0.0038 - val_loss: 0.0033\n",
      "Epoch 79/5000\n",
      "92/92 [==============================] - 1s 14ms/step - loss: 0.0038 - val_loss: 0.0033\n",
      "Epoch 80/5000\n",
      "92/92 [==============================] - 1s 13ms/step - loss: 0.0038 - val_loss: 0.0032\n",
      "Epoch 81/5000\n",
      "92/92 [==============================] - 1s 13ms/step - loss: 0.0038 - val_loss: 0.0033\n",
      "Epoch 82/5000\n",
      "92/92 [==============================] - 1s 14ms/step - loss: 0.0038 - val_loss: 0.0032\n",
      "Epoch 83/5000\n",
      "92/92 [==============================] - 1s 13ms/step - loss: 0.0038 - val_loss: 0.0032\n",
      "Epoch 84/5000\n",
      "92/92 [==============================] - 1s 14ms/step - loss: 0.0038 - val_loss: 0.0032\n",
      "Epoch 85/5000\n",
      "92/92 [==============================] - 1s 13ms/step - loss: 0.0038 - val_loss: 0.0033\n",
      "Epoch 86/5000\n",
      "92/92 [==============================] - 1s 14ms/step - loss: 0.0038 - val_loss: 0.0032\n",
      "Epoch 87/5000\n",
      "92/92 [==============================] - 1s 13ms/step - loss: 0.0038 - val_loss: 0.0032\n",
      "Epoch 88/5000\n",
      "92/92 [==============================] - 1s 13ms/step - loss: 0.0038 - val_loss: 0.0032\n",
      "Epoch 89/5000\n",
      "92/92 [==============================] - 1s 14ms/step - loss: 0.0038 - val_loss: 0.0032\n",
      "Epoch 90/5000\n",
      "92/92 [==============================] - 1s 13ms/step - loss: 0.0038 - val_loss: 0.0032\n",
      "Epoch 91/5000\n",
      "92/92 [==============================] - 1s 14ms/step - loss: 0.0038 - val_loss: 0.0033\n",
      "Epoch 92/5000\n",
      "92/92 [==============================] - 1s 14ms/step - loss: 0.0038 - val_loss: 0.0033\n",
      "Epoch 93/5000\n",
      "92/92 [==============================] - 1s 13ms/step - loss: 0.0038 - val_loss: 0.0034\n",
      "Epoch 94/5000\n",
      "92/92 [==============================] - 1s 14ms/step - loss: 0.0038 - val_loss: 0.0033\n",
      "Epoch 95/5000\n",
      "92/92 [==============================] - 1s 13ms/step - loss: 0.0038 - val_loss: 0.0034\n",
      "Epoch 96/5000\n",
      "92/92 [==============================] - 1s 13ms/step - loss: 0.0038 - val_loss: 0.0033\n",
      "Epoch 97/5000\n",
      "92/92 [==============================] - 1s 13ms/step - loss: 0.0038 - val_loss: 0.0033\n",
      "Epoch 98/5000\n",
      "92/92 [==============================] - 1s 14ms/step - loss: 0.0038 - val_loss: 0.0033\n",
      "Epoch 99/5000\n",
      "92/92 [==============================] - 1s 14ms/step - loss: 0.0038 - val_loss: 0.0032\n",
      "Epoch 100/5000\n",
      "92/92 [==============================] - 1s 13ms/step - loss: 0.0038 - val_loss: 0.0032\n",
      "Epoch 101/5000\n",
      "92/92 [==============================] - 1s 13ms/step - loss: 0.0038 - val_loss: 0.0032\n",
      "Epoch 102/5000\n",
      "92/92 [==============================] - 1s 13ms/step - loss: 0.0038 - val_loss: 0.0032\n",
      "Epoch 103/5000\n",
      "92/92 [==============================] - 1s 14ms/step - loss: 0.0038 - val_loss: 0.0034\n",
      "Epoch 104/5000\n",
      "92/92 [==============================] - 1s 14ms/step - loss: 0.0038 - val_loss: 0.0032\n",
      "Epoch 105/5000\n",
      "92/92 [==============================] - 1s 13ms/step - loss: 0.0038 - val_loss: 0.0032\n",
      "Epoch 106/5000\n",
      "92/92 [==============================] - 1s 14ms/step - loss: 0.0038 - val_loss: 0.0033\n",
      "Epoch 107/5000\n",
      "92/92 [==============================] - 1s 14ms/step - loss: 0.0038 - val_loss: 0.0032\n",
      "Epoch 108/5000\n",
      "92/92 [==============================] - 1s 13ms/step - loss: 0.0038 - val_loss: 0.0033\n",
      "Epoch 109/5000\n",
      "92/92 [==============================] - 1s 13ms/step - loss: 0.0038 - val_loss: 0.0033\n",
      "Epoch 110/5000\n",
      "92/92 [==============================] - 1s 14ms/step - loss: 0.0038 - val_loss: 0.0033\n",
      "Epoch 111/5000\n",
      "92/92 [==============================] - 1s 14ms/step - loss: 0.0038 - val_loss: 0.0032\n",
      "Epoch 112/5000\n",
      "92/92 [==============================] - 1s 14ms/step - loss: 0.0038 - val_loss: 0.0032\n",
      "Epoch 113/5000\n",
      "92/92 [==============================] - 1s 14ms/step - loss: 0.0038 - val_loss: 0.0033\n",
      "Epoch 114/5000\n",
      "92/92 [==============================] - 1s 13ms/step - loss: 0.0038 - val_loss: 0.0035\n",
      "Epoch 115/5000\n",
      "92/92 [==============================] - 1s 14ms/step - loss: 0.0038 - val_loss: 0.0032\n",
      "Epoch 116/5000\n",
      "91/92 [============================>.] - ETA: 0s - loss: 0.0038Restoring model weights from the end of the best epoch: 66.\n",
      "92/92 [==============================] - 1s 14ms/step - loss: 0.0038 - val_loss: 0.0032\n",
      "Epoch 116: early stopping\n"
     ]
    },
    {
     "data": {
      "image/png": "[encoded data removed]",
      "text/plain": [
       "<Figure size 640x480 with 1 Axes>"
      ]
     },
     "metadata": {},
     "output_type": "display_data"
    }
   ],
   "source": [
    "model2 = Sequential([\n",
    "    LSTM(units=350, input_shape=(step_back, 3), return_sequences=True),\n",
    "    Dropout(rate=0.25),\n",
    "    LSTM(units=350),\n",
    "    Dense(1, activation='sigmoid')\n",
    "])\n",
    "\n",
    "model2 = Sequential([\n",
    "    InputLayer(input_shape=(step_back, 3)),\n",
    "    LSTM(units=350),\n",
    "    Dense(1, activation='relu')\n",
    "])\n",
    "\n",
    "model2.compile(loss='mean_squared_error', optimizer=keras.optimizers.legacy.Adam())\n",
    "\n",
    "print('Model Summary', model2.summary())\n",
    "\n",
    "es = EarlyStopping(monitor='val_loss', mode='min', verbose=1, patience=50, restore_best_weights=True)\n",
    "#cp = ModelCheckpoint('models-keras/lstm-interpolation-5-1', save_best_only=True)\n",
    "\n",
    "history = model2.fit(train_x,\n",
    "                     train_y,\n",
    "                     epochs=5000,\n",
    "                     batch_size=64,\n",
    "                     validation_split=0.1,\n",
    "                     verbose=1,\n",
    "                     callbacks=[es],\n",
    "                     #workers=4,\n",
    "                     use_multiprocessing=True)\n",
    "\n",
    "#model2 = load_model('models-keras/lstm-interpolation-5-1')\n",
    "\n",
    "# plot history\n",
    "pyplot.plot(history.history['loss'], label='train')\n",
    "pyplot.plot(history.history['val_loss'], label='test')\n",
    "pyplot.legend()\n",
    "pyplot.show()"
   ]
  },
  {
   "cell_type": "code",
   "execution_count": 135,
   "metadata": {},
   "outputs": [
    {
     "name": "stdout",
     "output_type": "stream",
     "text": [
      " 1/23 [>.............................] - ETA: 0s - loss: 0.0037"
     ]
    },
    {
     "name": "stdout",
     "output_type": "stream",
     "text": [
      "23/23 [==============================] - 0s 5ms/step - loss: 0.0032\n"
     ]
    },
    {
     "data": {
      "text/plain": [
       "0.0031559227500110865"
      ]
     },
     "execution_count": 135,
     "metadata": {},
     "output_type": "execute_result"
    }
   ],
   "source": [
    "model2.evaluate(test_x, test_y, verbose=1)"
   ]
  },
  {
   "cell_type": "code",
   "execution_count": 137,
   "metadata": {
    "ExecuteTime": {
     "end_time": "2023-09-23T16:41:40.282847Z",
     "start_time": "2023-09-23T16:41:40.091216700Z"
    },
    "collapsed": false
   },
   "outputs": [
    {
     "name": "stdout",
     "output_type": "stream",
     "text": [
      "10/10 [==============================] - 0s 6ms/step\n"
     ]
    }
   ],
   "source": [
    "predict = model2.predict(test_x, batch_size=72)\n",
    "\n",
    "\n",
    "real = scaler.scales['RADIATION'].inverse_transform(test_y.reshape(-1,1))\n",
    "predict = scaler.scales['RADIATION'].inverse_transform(predict)"
   ]
  },
  {
   "cell_type": "code",
   "execution_count": 138,
   "metadata": {
    "ExecuteTime": {
     "end_time": "2023-09-19T00:19:04.696134600Z",
     "start_time": "2023-09-19T00:19:04.566993100Z"
    },
    "collapsed": false
   },
   "outputs": [
    {
     "name": "stdout",
     "output_type": "stream",
     "text": [
      "Test R2: 0.505\n",
      "Test MSE: 20635004.528\n",
      "Test RMSE: 4542.577\n",
      "Test MAE: 3535.868\n",
      "Test MAPE: 0.331\n"
     ]
    },
    {
     "data": {
      "image/png": "[encoded data removed]",
      "text/plain": [
       "<Figure size 640x480 with 1 Axes>"
      ]
     },
     "metadata": {},
     "output_type": "display_data"
    }
   ],
   "source": [
    "range_plot = 150\n",
    "\n",
    "pyplot.plot(real[0:range_plot], color='blue', label='real')\n",
    "pyplot.plot(predict[0:range_plot], color='red', label='incompleto')\n",
    "\n",
    "show_error_metrics(real, predict)\n",
    "\n",
    "pyplot.show()"
   ]
  }
 ],
 "metadata": {
  "kernelspec": {
   "display_name": "tf",
   "language": "python",
   "name": "tf"
  },
  "language_info": {
   "codemirror_mode": {
    "name": "ipython",
    "version": 3
   },
   "file_extension": ".py",
   "mimetype": "text/x-python",
   "name": "python",
   "nbconvert_exporter": "python",
   "pygments_lexer": "ipython3",
   "version": "3.9.18"
  }
 },
 "nbformat": 4,
 "nbformat_minor": 4
}
