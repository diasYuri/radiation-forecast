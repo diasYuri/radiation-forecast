{
 "cells": [
  {
   "cell_type": "code",
   "execution_count": null,
   "id": "3f8784754a822089",
   "metadata": {
    "ExecuteTime": {
     "end_time": "2023-09-23T16:26:37.957532700Z",
     "start_time": "2023-09-23T16:26:25.367334500Z"
    },
    "collapsed": false
   },
   "outputs": [],
   "source": [
    "%pip install pandas\n",
    "%pip install pydmd\n",
    "%pip install scikit-learn\n",
    "%pip install matplotlib\n",
    "%pip install seaborn\n",
    "%pip install keras_tuner\n",
    "%pip install keras\n",
    "%pip install numpy"
   ]
  },
  {
   "cell_type": "code",
   "execution_count": null,
   "id": "553496e6b07f5ad0",
   "metadata": {
    "ExecuteTime": {
     "end_time": "2023-09-23T16:26:37.957532700Z",
     "start_time": "2023-09-23T16:26:37.945532600Z"
    },
    "collapsed": false
   },
   "outputs": [],
   "source": [
    "import sys\n",
    "\n",
    "base_path = '/home/yurid/git/tcc'\n",
    "sys.path.insert(0, base_path)"
   ]
  },
  {
   "cell_type": "code",
   "execution_count": null,
   "id": "initial_id",
   "metadata": {
    "ExecuteTime": {
     "end_time": "2023-09-23T16:26:37.959536900Z",
     "start_time": "2023-09-23T16:26:37.953538200Z"
    },
    "collapsed": true
   },
   "outputs": [],
   "source": [
    "from math import sqrt\n",
    "\n",
    "import keras\n",
    "import numpy as np\n",
    "import pandas as pd\n",
    "from keras import layers\n",
    "from keras.callbacks import EarlyStopping\n",
    "from keras_tuner.tuners import RandomSearch\n",
    "from matplotlib import pyplot\n",
    "from sklearn.metrics import mean_absolute_error\n",
    "from sklearn.metrics import mean_absolute_percentage_error\n",
    "from sklearn.metrics import mean_squared_error\n",
    "from sklearn.metrics import r2_score\n",
    "from sklearn.preprocessing import MinMaxScaler\n",
    "from keras.models import Sequential\n",
    "from keras.layers import LSTM\n",
    "from keras.layers import Bidirectional, Dropout, Activation, Dense, LSTM, InputLayer\n",
    "from keras.callbacks import EarlyStopping\n",
    "from keras.layers import RepeatVector\n",
    "from keras.layers import TimeDistributed\n",
    "\n",
    "\n",
    "\n",
    "from src.filler import dmd_filler, interpolate_filler, fill_df\n",
    "from src.dataframe import read_data, windowing, split_data, show_error_metrics\n",
    "from src.scaler import Scaler\n",
    "from src.model import train_model, hp_search\n",
    "from src.model import hp_search, build_model"
   ]
  },
  {
   "cell_type": "code",
   "execution_count": null,
   "id": "a87835bb22155c51",
   "metadata": {
    "ExecuteTime": {
     "end_time": "2023-09-23T16:26:38.204762400Z",
     "start_time": "2023-09-23T16:26:37.963537200Z"
    },
    "collapsed": false
   },
   "outputs": [],
   "source": [
    "df_temp = pd.read_csv(\n",
    "    f'{base_path}/data/daily_juiz de fora.csv',\n",
    "    sep=',',\n",
    "    parse_dates=['Timestamp'],\n",
    "    index_col=['Timestamp'])\n",
    "\n",
    "init_index = lambda _df: _df[_df.RADIATION != 0].index[0]\n",
    "\n",
    "df = df_temp[['RADIATION', 'TEMP', 'HUMIDITY_h']] \\\n",
    "    .resample('D') \\\n",
    "    .agg({'RADIATION': np.sum})\n",
    "\n",
    "df = df.loc[df.index >= init_index(df)].replace(0, np.nan)\n",
    "print(df.isna().sum())\n",
    "df"
   ]
  },
  {
   "cell_type": "code",
   "execution_count": null,
   "id": "ab54185838dc1ded",
   "metadata": {
    "ExecuteTime": {
     "end_time": "2023-09-23T16:26:38.223383400Z",
     "start_time": "2023-09-23T16:26:38.209767Z"
    },
    "collapsed": false
   },
   "outputs": [],
   "source": [
    "df = fill_df(df, interpolate_filler)\n",
    "print(df.isna().sum())"
   ]
  },
  {
   "cell_type": "code",
   "execution_count": null,
   "id": "bc711727e80a9a68",
   "metadata": {
    "ExecuteTime": {
     "end_time": "2023-09-23T16:26:38.288289Z",
     "start_time": "2023-09-23T16:26:38.224289200Z"
    },
    "collapsed": false
   },
   "outputs": [],
   "source": [
    "scaler = Scaler(df)\n",
    "df_scaled = scaler.get_dataframe_scaled()\n",
    "df_scaled"
   ]
  },
  {
   "cell_type": "code",
   "execution_count": null,
   "id": "3dd7edb375f41f24",
   "metadata": {
    "ExecuteTime": {
     "end_time": "2023-09-23T16:26:38.316828700Z",
     "start_time": "2023-09-23T16:26:38.235720200Z"
    },
    "collapsed": false
   },
   "outputs": [],
   "source": [
    "X, Y = windowing(df_scaled, 3, 1)"
   ]
  },
  {
   "cell_type": "code",
   "execution_count": null,
   "id": "ec21199fc088d73f",
   "metadata": {
    "ExecuteTime": {
     "end_time": "2023-09-23T16:26:39.221343500Z",
     "start_time": "2023-09-23T16:26:38.279763700Z"
    },
    "collapsed": false
   },
   "outputs": [],
   "source": [
    "for i in range(len(X)):\n",
    "    print(X[i], Y[i])"
   ]
  },
  {
   "cell_type": "code",
   "execution_count": null,
   "id": "825928e0e79d89b6",
   "metadata": {
    "ExecuteTime": {
     "end_time": "2023-09-23T16:26:39.282079400Z",
     "start_time": "2023-09-23T16:26:39.224337200Z"
    },
    "collapsed": false
   },
   "outputs": [],
   "source": [
    "train_x, train_y, test_x, test_y = split_data(X, Y, length=len(df_scaled), ratio=0.9)"
   ]
  },
  {
   "cell_type": "code",
   "execution_count": null,
   "id": "a3da81afa809425b",
   "metadata": {
    "ExecuteTime": {
     "end_time": "2023-09-23T16:26:39.282079400Z",
     "start_time": "2023-09-23T16:26:39.269562900Z"
    },
    "collapsed": false
   },
   "outputs": [],
   "source": [
    "print(train_x.shape[1], train_x.shape[2])"
   ]
  },
  {
   "cell_type": "code",
   "execution_count": null,
   "id": "add30187639c6518",
   "metadata": {
    "ExecuteTime": {
     "end_time": "2023-09-23T16:34:54.293133900Z",
     "start_time": "2023-09-23T16:33:49.541876200Z"
    },
    "collapsed": false
   },
   "outputs": [],
   "source": [
    "model = Sequential([\n",
    "    LSTM(units=200, input_shape=(train_x.shape[1], train_x.shape[2])),\n",
    "    Dense(1, activation='sigmoid')\n",
    "])\n",
    "\n",
    "model.compile(loss='mse', optimizer=keras.optimizers.legacy.Adam(learning_rate=0.01))\n",
    "\n",
    "es = EarlyStopping(monitor='val_loss', mode='min', verbose=1, patience=15)\n",
    "history = model.fit(train_x,\n",
    "                     train_y,\n",
    "                     epochs=200,\n",
    "                     batch_size=16,\n",
    "                     validation_split=0.3,\n",
    "                     verbose=1,\n",
    "                     callbacks=[es])\n",
    "# plot history\n",
    "pyplot.plot(history.history['loss'], label='train')\n",
    "pyplot.plot(history.history['val_loss'], label='test')\n",
    "pyplot.legend()\n",
    "pyplot.show()"
   ]
  },
  {
   "cell_type": "code",
   "execution_count": null,
   "id": "c58b1952821213fd",
   "metadata": {
    "ExecuteTime": {
     "end_time": "2023-09-23T16:43:11.648494700Z",
     "start_time": "2023-09-23T16:43:11.468018100Z"
    },
    "collapsed": false
   },
   "outputs": [],
   "source": [
    "predict = model.predict(test_x)\n",
    "show_error_metrics(test_y.reshape(-1,1), predict)"
   ]
  },
  {
   "cell_type": "code",
   "execution_count": null,
   "id": "1cf2d4f0c423365e",
   "metadata": {
    "ExecuteTime": {
     "end_time": "2023-09-23T16:43:17.891988500Z",
     "start_time": "2023-09-23T16:43:17.745820200Z"
    },
    "collapsed": false
   },
   "outputs": [],
   "source": [
    "range_plot = -1\n",
    "\n",
    "pyplot.plot(test_y.reshape(-1,1)[0:range_plot], color='blue', label='real')\n",
    "pyplot.plot(predict[0:range_plot], color='red', label='incompleto')\n",
    "\n",
    "show_error_metrics(test_y.reshape(-1,1), predict)\n",
    "\n",
    "pyplot.show()"
   ]
  },
  {
   "cell_type": "code",
   "execution_count": null,
   "id": "5cd92306d8d40cbc",
   "metadata": {
    "ExecuteTime": {
     "start_time": "2023-09-23T16:28:49.294059300Z"
    },
    "collapsed": false
   },
   "outputs": [],
   "source": []
  }
 ],
 "metadata": {
  "kernelspec": {
   "display_name": "tf",
   "language": "python",
   "name": "tf"
  },
  "language_info": {
   "codemirror_mode": {
    "name": "ipython",
    "version": 3
   },
   "file_extension": ".py",
   "mimetype": "text/x-python",
   "name": "python",
   "nbconvert_exporter": "python",
   "pygments_lexer": "ipython3",
   "version": "3.9.18"
  }
 },
 "nbformat": 4,
 "nbformat_minor": 5
}
