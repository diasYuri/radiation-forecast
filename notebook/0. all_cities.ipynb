{
 "cells": [
  {
   "cell_type": "code",
   "execution_count": 6,
   "metadata": {},
   "outputs": [],
   "source": [
    "import sys, platform\n",
    "\n",
    "base_path = '/home/yurid/git/tcc'\n",
    "\n",
    "if platform.system() == 'Darwin':\n",
    "    base_path = '/Users/yuri/git/diasYuri/tcc/radiation-forecast-mg'\n",
    "sys.path.insert(0, base_path)"
   ]
  },
  {
   "cell_type": "code",
   "execution_count": 7,
   "metadata": {},
   "outputs": [
    {
     "name": "stderr",
     "output_type": "stream",
     "text": [
      "2023-11-20 15:16:54.374690: I tensorflow/core/platform/cpu_feature_guard.cc:182] This TensorFlow binary is optimized to use available CPU instructions in performance-critical operations.\n",
      "To enable the following instructions: AVX2 FMA, in other operations, rebuild TensorFlow with the appropriate compiler flags.\n",
      "2023-11-20 15:16:57.937971: W tensorflow/compiler/tf2tensorrt/utils/py_utils.cc:38] TF-TRT Warning: Could not find TensorRT\n"
     ]
    }
   ],
   "source": [
    "import os\n",
    "import pandas as pd\n",
    "from src.dataframe import read_data, read_data_from_csv\n",
    "import src.filler as fl\n",
    "import numpy as np\n"
   ]
  },
  {
   "cell_type": "code",
   "execution_count": 59,
   "metadata": {},
   "outputs": [
    {
     "name": "stdout",
     "output_type": "stream",
     "text": [
      "daily_barbacena.csv dados faltantes: \n",
      " RADIATION     273\n",
      "TEMP          326\n",
      "HUMIDITY_h    667\n",
      "dtype: int64\n",
      "daily_juiz de fora.csv dados faltantes: \n",
      " RADIATION     34\n",
      "TEMP          34\n",
      "HUMIDITY_h    34\n",
      "dtype: int64\n",
      "daily_vicosa.csv dados faltantes: \n",
      " RADIATION     152\n",
      "TEMP           92\n",
      "HUMIDITY_h     94\n",
      "dtype: int64\n",
      "daily_sao joao del rei.csv dados faltantes: \n",
      " RADIATION     137\n",
      "TEMP          137\n",
      "HUMIDITY_h    138\n",
      "dtype: int64\n",
      "daily_muriae.csv dados faltantes: \n",
      " RADIATION     131\n",
      "TEMP          109\n",
      "HUMIDITY_h    109\n",
      "dtype: int64\n"
     ]
    }
   ],
   "source": [
    "directory = f'{base_path}/data'\n",
    "for filename in os.listdir(directory):\n",
    "    f = os.path.join(directory, filename)\n",
    "    if os.path.isfile(f):\n",
    "        df = read_data(f)\n",
    "        print(f.split('/')[-1:][0], 'dados faltantes:', '\\n', df.isna().sum())"
   ]
  },
  {
   "cell_type": "code",
   "execution_count": 5,
   "metadata": {},
   "outputs": [
    {
     "name": "stdout",
     "output_type": "stream",
     "text": [
      "daily_barbacena.csv Maior lacuna de dados completos: 3126\n",
      "daily_juiz de fora.csv Maior lacuna de dados completos: 3221\n",
      "daily_vicosa.csv Maior lacuna de dados completos: 3839\n",
      "daily_sao joao del rei.csv Maior lacuna de dados completos: 1509\n",
      "daily_muriae.csv Maior lacuna de dados completos: 1841\n"
     ]
    }
   ],
   "source": [
    "directory = f'{base_path}/data'\n",
    "for filename in os.listdir(directory):\n",
    "    f = os.path.join(directory, filename)\n",
    "    if os.path.isfile(f):\n",
    "        df = read_data_from_csv(f).RADIATION\n",
    "        df_complete = fl.FillerHelper.get_largest_complete_interval(df)\n",
    "        print(f.split('/')[-1:][0], 'Maior lacuna de dados completos:', len(df_complete))"
   ]
  },
  {
   "cell_type": "code",
   "execution_count": 82,
   "metadata": {},
   "outputs": [],
   "source": [
    "def read_data_2(filename):\n",
    "    df = pd.read_csv(\n",
    "        filename,\n",
    "        sep=',',\n",
    "        parse_dates=['Timestamp'],\n",
    "        index_col=['Timestamp'])\n",
    "\n",
    "    df = df[['RADIATION', 'TEMP', 'HUMIDITY_h']]\n",
    "\n",
    "    dict_index = {}\n",
    "    df_temp = df.copy().resample('D').mean()\n",
    "    for c in df_temp:\n",
    "        dict_index[c] = df_temp[c].loc[np.isnan(df_temp[c].values)].index\n",
    "    \n",
    "    df = df.interpolate()\\\n",
    "        .resample('D') \\\n",
    "        .agg({'RADIATION': np.sum, 'TEMP': np.mean, 'HUMIDITY_h': np.mean})\\\n",
    "        .replace(0, np.nan)\n",
    "\n",
    "    for c in df:\n",
    "        df[c].loc[dict_index[c]] = pd.NA\n",
    "\n",
    "    return df.loc[df.index >= df[~df.RADIATION.isna()].index[0]]"
   ]
  },
  {
   "cell_type": "code",
   "execution_count": 83,
   "metadata": {},
   "outputs": [
    {
     "name": "stderr",
     "output_type": "stream",
     "text": [
      "/var/folders/tf/7zgm_5115vjc9x3162_qjg140000gn/T/ipykernel_33362/2527762277.py:15: FutureWarning: The provided callable <function sum at 0x10c546820> is currently using SeriesGroupBy.sum. In a future version of pandas, the provided callable will be used directly. To keep current behavior pass the string \"sum\" instead.\n",
      "  df = df.interpolate()\\\n",
      "/var/folders/tf/7zgm_5115vjc9x3162_qjg140000gn/T/ipykernel_33362/2527762277.py:15: FutureWarning: The provided callable <function mean at 0x10c54aca0> is currently using SeriesGroupBy.mean. In a future version of pandas, the provided callable will be used directly. To keep current behavior pass the string \"mean\" instead.\n",
      "  df = df.interpolate()\\\n"
     ]
    },
    {
     "data": {
      "text/plain": [
       "(7226, 7226)"
      ]
     },
     "execution_count": 83,
     "metadata": {},
     "output_type": "execute_result"
    }
   ],
   "source": [
    "df = read_data_2(f'{base_path}/data/daily_barbacena.csv')\n",
    "df2 = read_data(f'{base_path}/data/daily_barbacena.csv')\n",
    "\n",
    "len(df), len(df2)"
   ]
  },
  {
   "cell_type": "code",
   "execution_count": 87,
   "metadata": {},
   "outputs": [
    {
     "data": {
      "text/html": [
       "<div>\n",
       "<style scoped>\n",
       "    .dataframe tbody tr th:only-of-type {\n",
       "        vertical-align: middle;\n",
       "    }\n",
       "\n",
       "    .dataframe tbody tr th {\n",
       "        vertical-align: top;\n",
       "    }\n",
       "\n",
       "    .dataframe thead tr th {\n",
       "        text-align: left;\n",
       "    }\n",
       "\n",
       "    .dataframe thead tr:last-of-type th {\n",
       "        text-align: right;\n",
       "    }\n",
       "</style>\n",
       "<table border=\"1\" class=\"dataframe\">\n",
       "  <thead>\n",
       "    <tr>\n",
       "      <th></th>\n",
       "      <th colspan=\"2\" halign=\"left\">RADIATION</th>\n",
       "      <th colspan=\"2\" halign=\"left\">TEMP</th>\n",
       "      <th colspan=\"2\" halign=\"left\">HUMIDITY_h</th>\n",
       "    </tr>\n",
       "    <tr>\n",
       "      <th></th>\n",
       "      <th>self</th>\n",
       "      <th>other</th>\n",
       "      <th>self</th>\n",
       "      <th>other</th>\n",
       "      <th>self</th>\n",
       "      <th>other</th>\n",
       "    </tr>\n",
       "    <tr>\n",
       "      <th>Timestamp</th>\n",
       "      <th></th>\n",
       "      <th></th>\n",
       "      <th></th>\n",
       "      <th></th>\n",
       "      <th></th>\n",
       "      <th></th>\n",
       "    </tr>\n",
       "  </thead>\n",
       "  <tbody>\n",
       "    <tr>\n",
       "      <th>2003-03-21</th>\n",
       "      <td>17454.923077</td>\n",
       "      <td>17306.0</td>\n",
       "      <td>NaN</td>\n",
       "      <td>NaN</td>\n",
       "      <td>NaN</td>\n",
       "      <td>NaN</td>\n",
       "    </tr>\n",
       "    <tr>\n",
       "      <th>2003-03-22</th>\n",
       "      <td>11003.713287</td>\n",
       "      <td>10357.0</td>\n",
       "      <td>NaN</td>\n",
       "      <td>NaN</td>\n",
       "      <td>NaN</td>\n",
       "      <td>NaN</td>\n",
       "    </tr>\n",
       "    <tr>\n",
       "      <th>2003-03-23</th>\n",
       "      <td>11044.286713</td>\n",
       "      <td>10708.0</td>\n",
       "      <td>NaN</td>\n",
       "      <td>NaN</td>\n",
       "      <td>NaN</td>\n",
       "      <td>NaN</td>\n",
       "    </tr>\n",
       "    <tr>\n",
       "      <th>2003-03-24</th>\n",
       "      <td>13792.826923</td>\n",
       "      <td>12355.0</td>\n",
       "      <td>NaN</td>\n",
       "      <td>NaN</td>\n",
       "      <td>NaN</td>\n",
       "      <td>NaN</td>\n",
       "    </tr>\n",
       "    <tr>\n",
       "      <th>2003-03-25</th>\n",
       "      <td>20811.596154</td>\n",
       "      <td>19740.0</td>\n",
       "      <td>NaN</td>\n",
       "      <td>NaN</td>\n",
       "      <td>NaN</td>\n",
       "      <td>NaN</td>\n",
       "    </tr>\n",
       "    <tr>\n",
       "      <th>...</th>\n",
       "      <td>...</td>\n",
       "      <td>...</td>\n",
       "      <td>...</td>\n",
       "      <td>...</td>\n",
       "      <td>...</td>\n",
       "      <td>...</td>\n",
       "    </tr>\n",
       "    <tr>\n",
       "      <th>2022-12-27</th>\n",
       "      <td>14148.363636</td>\n",
       "      <td>13899.2</td>\n",
       "      <td>NaN</td>\n",
       "      <td>NaN</td>\n",
       "      <td>NaN</td>\n",
       "      <td>NaN</td>\n",
       "    </tr>\n",
       "    <tr>\n",
       "      <th>2022-12-28</th>\n",
       "      <td>10504.739394</td>\n",
       "      <td>10267.3</td>\n",
       "      <td>NaN</td>\n",
       "      <td>NaN</td>\n",
       "      <td>NaN</td>\n",
       "      <td>NaN</td>\n",
       "    </tr>\n",
       "    <tr>\n",
       "      <th>2022-12-29</th>\n",
       "      <td>8219.560606</td>\n",
       "      <td>8122.0</td>\n",
       "      <td>NaN</td>\n",
       "      <td>NaN</td>\n",
       "      <td>NaN</td>\n",
       "      <td>NaN</td>\n",
       "    </tr>\n",
       "    <tr>\n",
       "      <th>2022-12-30</th>\n",
       "      <td>8244.227273</td>\n",
       "      <td>7987.6</td>\n",
       "      <td>NaN</td>\n",
       "      <td>NaN</td>\n",
       "      <td>NaN</td>\n",
       "      <td>NaN</td>\n",
       "    </tr>\n",
       "    <tr>\n",
       "      <th>2022-12-31</th>\n",
       "      <td>12598.745455</td>\n",
       "      <td>12501.4</td>\n",
       "      <td>NaN</td>\n",
       "      <td>NaN</td>\n",
       "      <td>NaN</td>\n",
       "      <td>NaN</td>\n",
       "    </tr>\n",
       "  </tbody>\n",
       "</table>\n",
       "<p>5298 rows × 6 columns</p>\n",
       "</div>"
      ],
      "text/plain": [
       "               RADIATION          TEMP       HUMIDITY_h      \n",
       "                    self    other self other       self other\n",
       "Timestamp                                                    \n",
       "2003-03-21  17454.923077  17306.0  NaN   NaN        NaN   NaN\n",
       "2003-03-22  11003.713287  10357.0  NaN   NaN        NaN   NaN\n",
       "2003-03-23  11044.286713  10708.0  NaN   NaN        NaN   NaN\n",
       "2003-03-24  13792.826923  12355.0  NaN   NaN        NaN   NaN\n",
       "2003-03-25  20811.596154  19740.0  NaN   NaN        NaN   NaN\n",
       "...                  ...      ...  ...   ...        ...   ...\n",
       "2022-12-27  14148.363636  13899.2  NaN   NaN        NaN   NaN\n",
       "2022-12-28  10504.739394  10267.3  NaN   NaN        NaN   NaN\n",
       "2022-12-29   8219.560606   8122.0  NaN   NaN        NaN   NaN\n",
       "2022-12-30   8244.227273   7987.6  NaN   NaN        NaN   NaN\n",
       "2022-12-31  12598.745455  12501.4  NaN   NaN        NaN   NaN\n",
       "\n",
       "[5298 rows x 6 columns]"
      ]
     },
     "execution_count": 87,
     "metadata": {},
     "output_type": "execute_result"
    }
   ],
   "source": [
    "diff = df.compare(df2)\n",
    "\n",
    "\n",
    "diff"
   ]
  },
  {
   "cell_type": "code",
   "execution_count": 13,
   "metadata": {},
   "outputs": [
    {
     "name": "stdout",
     "output_type": "stream",
     "text": [
      "2005-09-15 00:00:00 2017-10-22 00:00:00\n",
      "2017-10-23 00:00:00 2019-07-16 00:00:00\n",
      "2019-07-17 00:00:00 2022-12-31 00:00:00\n"
     ]
    }
   ],
   "source": [
    "df = read_data(f'{base_path}/data/daily_vicosa.csv')\n",
    "\n",
    "df_len = len(df)\n",
    "train, validation, teste = df[:int(0.7*df_len)], df[int(0.7*df_len):int(0.8*df_len)], df[int(0.8*df_len):]\n",
    "\n",
    "print(train.index[0], train.index[-1])\n",
    "print(validation.index[0], validation.index[-1])\n",
    "print(teste.index[0], teste.index[-1])"
   ]
  }
 ],
 "metadata": {
  "kernelspec": {
   "display_name": "tf",
   "language": "python",
   "name": "tf"
  },
  "language_info": {
   "codemirror_mode": {
    "name": "ipython",
    "version": 3
   },
   "file_extension": ".py",
   "mimetype": "text/x-python",
   "name": "python",
   "nbconvert_exporter": "python",
   "pygments_lexer": "ipython3",
   "version": "3.9.18"
  },
  "orig_nbformat": 4
 },
 "nbformat": 4,
 "nbformat_minor": 2
}
