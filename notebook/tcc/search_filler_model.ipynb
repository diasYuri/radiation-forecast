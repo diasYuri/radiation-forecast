{
 "cells": [
  {
   "cell_type": "code",
   "execution_count": null,
   "metadata": {},
   "outputs": [],
   "source": [
    "import sys, platform\n",
    "\n",
    "base_path = '/Users/yuri/git/diasYuri/tcc/radiation-forecast-mg'\n",
    "\n",
    "if platform.system() is 'Darwin':\n",
    "    base_path = '/Users/yuri/git/diasYuri/tcc/radiation-forecast-mg'\n",
    "sys.path.insert(0, base_path)"
   ]
  },
  {
   "cell_type": "code",
   "execution_count": null,
   "metadata": {},
   "outputs": [],
   "source": [
    "from math import sqrt\n",
    "\n",
    "import keras\n",
    "import numpy as np\n",
    "import pandas as pd\n",
    "import optuna\n",
    "from keras import layers\n",
    "from keras.callbacks import EarlyStopping\n",
    "from keras_tuner.tuners import RandomSearch\n",
    "from matplotlib import pyplot\n",
    "from sklearn.metrics import mean_absolute_error\n",
    "from sklearn.metrics import mean_absolute_percentage_error\n",
    "from sklearn.metrics import mean_squared_error\n",
    "from sklearn.metrics import r2_score\n",
    "from sklearn.preprocessing import MinMaxScaler\n",
    "from keras.models import Sequential\n",
    "from keras.layers import LSTM\n",
    "from keras.layers import Bidirectional, Dropout, Activation, Dense, LSTM, InputLayer\n",
    "from keras.callbacks import EarlyStopping\n",
    "from keras.layers import RepeatVector\n",
    "from keras.layers import TimeDistributed\n",
    "from datetime import datetime\n",
    "from sklearn.preprocessing import MinMaxScaler\n",
    "from pandas import DataFrame\n",
    "\n",
    "import src.filler as fl\n",
    "from src.filler import RandomForestFillerWithOneModel, LstmFillerModel, HodmdFiller\n",
    "from src.dataframe import read_data_from_csv"
   ]
  },
  {
   "cell_type": "code",
   "execution_count": null,
   "metadata": {},
   "outputs": [],
   "source": [
    "filename = f'{base_path}/data/daily_vicosa.csv'"
   ]
  },
  {
   "cell_type": "code",
   "execution_count": null,
   "metadata": {},
   "outputs": [],
   "source": [
    "df = read_data_from_csv(filename)\n",
    "\n",
    "df = df.RADIATION"
   ]
  },
  {
   "cell_type": "code",
   "execution_count": null,
   "metadata": {},
   "outputs": [],
   "source": [
    "data = fl.FillerHelper.get_largest_complete_interval(df)\n",
    "data_with_gaps = fl.FillerHelper.introduce_gaps(data.copy(), \n",
    "                                                missing_percentage=0.02, \n",
    "                                                min_gap_size=1, \n",
    "                                                max_gap_size=20)"
   ]
  },
  {
   "cell_type": "code",
   "execution_count": null,
   "metadata": {},
   "outputs": [],
   "source": [
    "maxrange = 1200\n",
    "\n",
    "print(len(data))\n",
    "print(data_with_gaps.isna().sum())\n",
    "print('Percentual de dados faltantes:', (data_with_gaps.isna().sum()/len(data)))\n",
    "\n",
    "pyplot.figure(figsize=(12, 6))\n",
    "pyplot.plot(data[0:maxrange], color = 'b', linestyle = ':')\n",
    "pyplot.plot(data_with_gaps[0:maxrange], color='green', label='missing_data')\n",
    "pyplot.show()"
   ]
  },
  {
   "cell_type": "markdown",
   "metadata": {},
   "source": [
    "DMD"
   ]
  },
  {
   "cell_type": "code",
   "execution_count": null,
   "metadata": {},
   "outputs": [],
   "source": [
    "def objective(trial):\n",
    "    dmd_data = data_with_gaps.copy()\n",
    "    filler = fl.HodmdFiller(d_factor=trial.suggest_float(\"d_fator\", 0.5, 0.99, log=True))\n",
    "    data_filled = filler.dmd_filler(dmd_data)\n",
    "    mape = mean_absolute_error(data, data_filled)\n",
    "    print('MAPE SCORE:', mape)\n",
    "    return mape\n",
    "\n",
    "\n",
    "study = optuna.create_study(\n",
    "    direction='minimize',\n",
    "    storage='sqlite:///filler_method.db',\n",
    "    study_name=f'hodmd',\n",
    "    load_if_exists=True\n",
    ")\n",
    "\n",
    "n_trials = 16\n",
    "if len(study.trials) < n_trials:\n",
    "    study.optimize(\n",
    "        objective, \n",
    "        n_trials=n_trials, \n",
    "        timeout=600, \n",
    "        gc_after_trial=True,\n",
    "        n_jobs=4\n",
    "    )   \n",
    "\n",
    "print(\"Number of finished trials: {}\".format(len(study.trials)))\n",
    "\n",
    "print(\"Best trial:\")\n",
    "trial = study.best_trial\n",
    "\n",
    "print(\"  Value: {}\".format(trial.value))\n",
    "\n",
    "print(\"  Params: \")\n",
    "for key, value in trial.params.items():\n",
    "    print(\"    {}: {}\".format(key, value))"
   ]
  },
  {
   "cell_type": "markdown",
   "metadata": {},
   "source": [
    "Interpolation Seasonal"
   ]
  },
  {
   "cell_type": "code",
   "execution_count": null,
   "metadata": {},
   "outputs": [],
   "source": [
    "def objective(trial):\n",
    "    data_filled = fl.seasonal_filler(data_with_gaps.copy(), \n",
    "                                     period=trial.suggest_int(\"period\", 24, 365, log=True), \n",
    "                                     factor=trial.suggest_int(\"factor\", 1, 6, log=True))\n",
    "    mae = mean_absolute_error(data, data_filled)\n",
    "    print('MAE SCORE:', mae)\n",
    "    print('Faltantes SCORE:', data_filled.isna().sum())\n",
    "    return mae\n",
    "\n",
    "\n",
    "\n",
    "study = optuna.create_study(\n",
    "    direction='minimize',\n",
    "    storage='sqlite:///filler_method.db',\n",
    "    study_name=f'interpolation_seasonal',\n",
    "    load_if_exists=True\n",
    ")\n",
    "\n",
    "n_trials = 160\n",
    "if len(study.trials) < n_trials:\n",
    "    study.optimize(\n",
    "        objective, \n",
    "        n_trials=n_trials, \n",
    "        timeout=600, \n",
    "        gc_after_trial=True,\n",
    "        n_jobs=4\n",
    "    )   \n",
    "\n",
    "print(\"Number of finished trials: {}\".format(len(study.trials)))\n",
    "\n",
    "print(\"Best trial:\")\n",
    "trial = study.best_trial\n",
    "\n",
    "print(\"  Value: {}\".format(trial.value))\n",
    "\n",
    "print(\"  Params: \")\n",
    "for key, value in trial.params.items():\n",
    "    print(\"    {}: {}\".format(key, value))"
   ]
  }
 ],
 "metadata": {
  "kernelspec": {
   "display_name": "tf",
   "language": "python",
   "name": "tf"
  },
  "language_info": {
   "codemirror_mode": {
    "name": "ipython",
    "version": 3
   },
   "file_extension": ".py",
   "mimetype": "text/x-python",
   "name": "python",
   "nbconvert_exporter": "python",
   "pygments_lexer": "ipython3",
   "version": "3.9.18"
  }
 },
 "nbformat": 4,
 "nbformat_minor": 2
}
